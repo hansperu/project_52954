{
 "cells": [
  {
   "cell_type": "markdown",
   "metadata": {},
   "source": [
    "# Machine Learning and Statistics\n",
    "\n",
    "## Student: Hans Pérez Rubín de Celis\n",
    "\n",
    "## Student ID number: G00387884\n",
    "\n",
    "## Instructions\n",
    "\n",
    "In this project you must create a web service that uses machine learning to make predictions based on the data set ``powerproduction`` available on Moodle. The goal is to produce a model that accurately predicts wind turbine power output from wind speed values, as in the data set. You must then develop a web service that will respond with predicted power values based on speed values sent as HTTP requests. Your submission must be in the form of a git repository containing, at a minimum, the following items:\n",
    "\n",
    "**1. Jupyter notebook that trains a model using the data set. In the notebook you should explain your model and give an analysis of its accuracy.**\n",
    "\n",
    "**2. Python script that runs a web service based on the model, as above.**\n",
    "\n",
    "**3. Dockerfile to build and run the web service in a container.**\n",
    "\n",
    "**4. Standard items in a git repository such as a README.**\n",
    "\n",
    "To enhance your submission, you might consider developing and comparing more than one model. Rest assured, all the above concepts will be explored in lecture videos and other materials in the coming semester.\n",
    "\n",
    "![imagen eolica](https://i.blogs.es/77499c/eolica/1024_2000.jpg)\n",
    "\n",
    "## Introduction.\n",
    "\n",
    "The question that many are asking is: how can data science revolutionize and improve the sustainability of our environment? One way is to use big data analytics and machine learning. Fortunately, there has been a great increase and advance in algorithms, sensors, Internet of Things (IoT) devices, and data mining techniques, yielding the following benefits:\n",
    "\n",
    "Reliability - By analyzing data usage patterns, it is possible to improve maintenance, efficiency, and extend the life of solar panels.\n",
    "Forecast: by allowing the development of algorithms, it is possible to predict changes in solar and wind conditions.\n",
    "\n",
    "There are many benefits that computing provides, all with the aim of making improvements for the sustainability of our environment in the future\n",
    "\n",
    "Big data for the management of solar and wind energy has been a particularly active field of research. The main problem with this type of energy is when the natural resources are not optimal, because they do not produce enough energy. During these times, the deficit must be covered with gas, coal or nuclear energy.\n",
    "\n",
    "By collecting information on usage and combining it with other sensory information, data analysis and computational modeling can calculate the ups and downs of energy use and when there is a surplus.\n",
    "\n",
    "The growing need to extract value and knowledge from data is allowing the technology industry to make great strides in fields such as artificial intelligence, Big data or real-time analytics, but it is also contributing to the development of the technologies that give them life , a whole new generation of software essential for understanding data in order to be able to glimpse the decisions to be made.\n",
    "\n",
    "![imagen energias alternativas](https://www.worldenergytrade.com/images/stories/news/technical_articles/energias_alternativas/5094/El-analisis-de-datos-en-el-sector-petrolero-logistica-minero-y-energias-alternativas-5094.jpg)\n"
   ]
  },
  {
   "cell_type": "markdown",
   "metadata": {},
   "source": [
    "First we are going to download a data set powerproduction.csv.\n",
    "\n",
    "We have to develop a model that makes predictions of wind energy Y based on the input of wind speed X.\n",
    "\n",
    "## How do wind turbines work?\n",
    "\n",
    "Simply put, a wind turbine works the opposite of a fan. Instead of using electricity to make wind, like a fan, wind turbines use wind to produce electricity. The wind turns the blades, which turn a shaft, which connects to a generator and makes electricity.\n",
    "\n",
    "![imagen energia eolica](http://www.sectorelectricidad.com/wp-content/uploads/2017/04/Las-turbinas-de-viento.jpg)\n",
    "\n",
    "Wind turbines operate on a simple principle. The energy in the wind turns two or three propellers-like blades around a rotor. The rotor is connected to the main shaft, which turns a generator to create electricity. \n",
    "\n",
    "![imagen grafico](https://media2.giphy.com/media/69ocWMbdaT85eIEva1/giphy.gif)"
   ]
  },
  {
   "cell_type": "code",
   "execution_count": null,
   "metadata": {},
   "outputs": [],
   "source": [
    "#Keras is a deep learning API written in Python, running on top of the machine learning platform TensorFlow. It was developed with a focus on enabling fast experimentation. Being able to go from idea to result as fast as possible is key to doing good research.\n",
    "import tensorflow.keras as kr\n",
    "\n"
   ]
  },
  {
   "cell_type": "markdown",
   "metadata": {},
   "source": [
    "\n",
    "**This Project can be found in detail in the file Project 52954.ipynb**\n",
    "\n",
    "\n",
    "## Bibliographic references\n",
    "\n",
    "#### [Python Machine Learning - Second Edition](http://search.ebscohost.com/login.aspx?direct=true&AuthType=ip,sso&db=nlebk&AN=1606531&site=eds-live&scope=site&custid=s2873033&ebv=EB&ppid=pp_9)\n",
    "Author:Raschka, Sebastian, Mirjalili, Vahid\n",
    "\n",
    "![book1](https://user-images.githubusercontent.com/60121637/82153453-66aab500-985f-11ea-881a-fd5e2bbd3c8e.png)\n",
    "\n",
    "#### [Mastering Social Media Mining with Python](http://search.ebscohost.com/login.aspx?direct=true&AuthType=ip,sso&db=e000xww&AN=1295360&site=eds-live&scope=site&custid=s2873033&ebv=EB&ppid=pp_32)\n",
    "Author: Bonzanini, Marco\n",
    "\n",
    "![book2](https://user-images.githubusercontent.com/60121637/82153488-a40f4280-985f-11ea-9b14-a7f0f4cf5d67.png)\n",
    "#### [Python Data Science Essentials - Second Edition](http://search.ebscohost.com/login.aspx?direct=true&AuthType=ip,sso&db=e000xww&AN=1409191&site=eds-live&scope=site&custid=s2873033&ebv=EB&ppid=pp_Cover)\n",
    "Author: Boschetti, Alberto, Massaron, Luca\n",
    "\n",
    "![book3](https://user-images.githubusercontent.com/60121637/82153641-a756fe00-9860-11ea-8245-e15e478f1450.png)\n",
    "\n",
    "## Other references\n",
    "\n",
    "[DeepMind recurre al machine learning para mejorar la eficiencia de los parques eólicos y optimizar la gestión de energía limpia](https://www.xataka.com/inteligencia-artificial/deepmind-recurre-al-machine-learning-para-mejorar-eficiencia-parques-eolicos-optimizar-gestion-energia-limpia)\n",
    "\n",
    "[Beneficios del análisis de datos para la energía renovable](https://www.worldenergytrade.com/energias-alternativas/investigacion/beneficios-del-analisis-de-datos-para-la-energia-renovable)\n",
    "\n",
    "[El análisis de datos en el sector petrolero, logística, minero y energías alternativas](https://www.worldenergytrade.com/articulos-tecnicos/energias-alternativas-at/el-analisis-de-datos-en-el-sector-petrolero-logistica-minero-y-energias-alternativas)\n",
    "\n",
    "[Energy 101: Wind Power](https://youtu.be/EYYHfMCw-FI)\n",
    "\n",
    "[Machine learning techniques in the diagnosis of wind turbines\n",
    "](https://www.ecorfan.org/republicofperu/research_journals/Revista_de_Energias_Renovables/vol3num11/Revista_de_Energ%C3%ADas_Renovables_V3_N11_2.pdf)"
   ]
  },
  {
   "cell_type": "code",
   "execution_count": null,
   "metadata": {},
   "outputs": [],
   "source": []
  }
 ],
 "metadata": {
  "kernelspec": {
   "display_name": "Python 3",
   "language": "python",
   "name": "python3"
  },
  "language_info": {
   "codemirror_mode": {
    "name": "ipython",
    "version": 3
   },
   "file_extension": ".py",
   "mimetype": "text/x-python",
   "name": "python",
   "nbconvert_exporter": "python",
   "pygments_lexer": "ipython3",
   "version": "3.8.5"
  }
 },
 "nbformat": 4,
 "nbformat_minor": 4
}
